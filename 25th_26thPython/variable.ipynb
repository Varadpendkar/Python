{
 "cells": [
  {
   "cell_type": "markdown",
   "id": "84f7b8ee",
   "metadata": {},
   "source": [
    "# Syntax\n",
    "\n",
    "- Variable_name = value\n"
   ]
  },
  {
   "cell_type": "code",
   "execution_count": 1,
   "id": "eb8f70b9",
   "metadata": {},
   "outputs": [
    {
     "name": "stdout",
     "output_type": "stream",
     "text": [
      "25\n"
     ]
    }
   ],
   "source": [
    "age = 25 \n",
    "print(age) # output 25"
   ]
  },
  {
   "cell_type": "code",
   "execution_count": 2,
   "id": "e5bab3eb",
   "metadata": {},
   "outputs": [
    {
     "name": "stdout",
     "output_type": "stream",
     "text": [
      "Alice\n"
     ]
    }
   ],
   "source": [
    "name  = \"Alice\"\n",
    "print(name) # output Alice"
   ]
  },
  {
   "cell_type": "code",
   "execution_count": 3,
   "id": "fa9a58f5",
   "metadata": {},
   "outputs": [
    {
     "name": "stdout",
     "output_type": "stream",
     "text": [
      "19.99\n"
     ]
    }
   ],
   "source": [
    "price = 19.99\n",
    "print(price) # output 19.99"
   ]
  },
  {
   "cell_type": "code",
   "execution_count": 4,
   "id": "1dd36184",
   "metadata": {},
   "outputs": [
    {
     "name": "stdout",
     "output_type": "stream",
     "text": [
      "True\n"
     ]
    }
   ],
   "source": [
    "is_active = True\n",
    "print(is_active) # output True"
   ]
  },
  {
   "cell_type": "markdown",
   "id": "f5f9c9d2",
   "metadata": {},
   "source": [
    "# 1.Storing and Printing values\n"
   ]
  },
  {
   "cell_type": "code",
   "execution_count": 6,
   "id": "634471e7",
   "metadata": {},
   "outputs": [
    {
     "name": "stdout",
     "output_type": "stream",
     "text": [
      "10\n"
     ]
    }
   ],
   "source": [
    "x = 10 \n",
    "print(x)"
   ]
  },
  {
   "cell_type": "markdown",
   "id": "006fb8a8",
   "metadata": {},
   "source": [
    "# 2.Using Variables in expression\n"
   ]
  },
  {
   "cell_type": "code",
   "execution_count": 7,
   "id": "5e412e16",
   "metadata": {},
   "outputs": [
    {
     "name": "stdout",
     "output_type": "stream",
     "text": [
      "8\n"
     ]
    }
   ],
   "source": [
    "a = 5\n",
    "b = 3\n",
    "result = a + b\n",
    "print(result) # output 8"
   ]
  },
  {
   "cell_type": "markdown",
   "id": "d6bcee0e",
   "metadata": {},
   "source": [
    "# 3.Changing the Value of a varible\n"
   ]
  },
  {
   "cell_type": "code",
   "execution_count": 8,
   "id": "700ba0e6",
   "metadata": {},
   "outputs": [
    {
     "name": "stdout",
     "output_type": "stream",
     "text": [
      "50\n",
      "100\n"
     ]
    }
   ],
   "source": [
    "score = 50 \n",
    "print(score) # output 50\n",
    "\n",
    "score = 100\n",
    "print(score) # output 100"
   ]
  },
  {
   "cell_type": "markdown",
   "id": "80e3a520",
   "metadata": {},
   "source": [
    "# 4.Concatenating string\n"
   ]
  },
  {
   "cell_type": "code",
   "execution_count": 9,
   "id": "c30d7f51",
   "metadata": {},
   "outputs": [
    {
     "name": "stdout",
     "output_type": "stream",
     "text": [
      "John Doe\n"
     ]
    }
   ],
   "source": [
    "first_name = \"John\"\n",
    "last_name = \"Doe\"\n",
    "\n",
    "# Concatenating strings\n",
    "full_name = first_name + \" \" + last_name\n",
    "print(full_name) # output John Doe"
   ]
  },
  {
   "cell_type": "markdown",
   "id": "11675d55",
   "metadata": {},
   "source": [
    "# 5.Using variables in calculation\n"
   ]
  },
  {
   "cell_type": "code",
   "execution_count": 10,
   "id": "1fc14d76",
   "metadata": {},
   "outputs": [
    {
     "name": "stdout",
     "output_type": "stream",
     "text": [
      "50\n"
     ]
    }
   ],
   "source": [
    "length = 10\n",
    "width = 5\n",
    "\n",
    "area = length * width\n",
    "print(area) # output 50"
   ]
  },
  {
   "cell_type": "markdown",
   "id": "cd3dc9d0",
   "metadata": {},
   "source": [
    "# 6.Reassging Values to Variables\n"
   ]
  },
  {
   "cell_type": "code",
   "execution_count": 12,
   "id": "be930063",
   "metadata": {},
   "outputs": [
    {
     "name": "stdout",
     "output_type": "stream",
     "text": [
      "10\n",
      "20\n"
     ]
    }
   ],
   "source": [
    "x = 10 \n",
    "print(x)\n",
    "\n",
    "x = 20 \n",
    "print(x)"
   ]
  }
 ],
 "metadata": {
  "kernelspec": {
   "display_name": ".venv",
   "language": "python",
   "name": "python3"
  },
  "language_info": {
   "codemirror_mode": {
    "name": "ipython",
    "version": 3
   },
   "file_extension": ".py",
   "mimetype": "text/x-python",
   "name": "python",
   "nbconvert_exporter": "python",
   "pygments_lexer": "ipython3",
   "version": "3.13.3"
  }
 },
 "nbformat": 4,
 "nbformat_minor": 5
}
