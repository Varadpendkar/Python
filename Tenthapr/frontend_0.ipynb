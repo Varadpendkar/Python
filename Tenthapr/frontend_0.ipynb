{
 "cells": [
  {
   "cell_type": "code",
   "execution_count": 1,
   "id": "d9b15621",
   "metadata": {},
   "outputs": [
    {
     "name": "stdout",
     "output_type": "stream",
     "text": [
      "Hello World!\n",
      "goodbye\n",
      "Hello World!\n",
      "goodbye\n",
      "Hello World!\n",
      "goodbye\n",
      "Hello World!\n",
      "goodbye\n"
     ]
    }
   ],
   "source": [
    "import tkinter as tk \n",
    "\n",
    "\n",
    "# Create the main application window \n",
    "root = tk.Tk()\n",
    "root.title(\"Simple Tkinter App\")\n",
    "root.geometry(\"200x100\")\n",
    "\n",
    "#Function to pring \"Hello world!\" in the console \n",
    "def say_hello():\n",
    "  print('Hello World!')\n",
    "  print('goodbye')\n",
    "\n",
    "hello_button = tk.Button(root, text=\"Click Me\", command=say_hello)\n",
    "hello_button.pack(pady=20)\n",
    "\n",
    "# start the Tkinter event loop \n",
    "root.mainloop()"
   ]
  },
  {
   "cell_type": "code",
   "execution_count": 6,
   "id": "60731ee9",
   "metadata": {},
   "outputs": [],
   "source": [
    "import tkinter as tk\n",
    "from tkinter import messagebox\n",
    "\n",
    "# Create main application window\n",
    "root = tk.Tk()\n",
    "root.title(\"Greeting app\")\n",
    "root.geometry(\"300x200\")\n",
    "\n",
    "#Function to display the greeting\n",
    "def greet():\n",
    "    name = name_entry.get()\n",
    "    if name:\n",
    "        messagebox.showinfo(\"Greeting\",f\"Hello{name}!\")\n",
    "    else:\n",
    "        messagebox.showwarning(\"Input Error\", \"Please enter your name.\")\n",
    "# Create label\n",
    "name_label = tk.Label(root,text=\"Enter your name\")\n",
    "name_label.pack(pady=10)\n",
    "\n",
    "# Create an entry box for user input\n",
    "name_entry = tk.Entry(root)\n",
    "name_entry.pack(pady=10)\n",
    "\n",
    "root.mainloop()"
   ]
  },
  {
   "cell_type": "code",
   "execution_count": 7,
   "id": "7b859e21",
   "metadata": {},
   "outputs": [],
   "source": [
    "import tkinter as tk\n",
    "from tkinter import messagebox\n",
    "\n",
    "# Create the main application window\n",
    "root = tk.Tk()\n",
    "root.title(\"Greeting App\")\n",
    "root.geometry(\"300x200\")  # Set the size of the window\n",
    "# Function to display the greeting\n",
    "def greet():\n",
    "    name = name_entry.get()\n",
    "    if name:\n",
    "        messagebox.showinfo(\"Greeting\", f\"Hello, {name}!\")\n",
    "    else:\n",
    "        messagebox.showwarning(\"Input Error\", \"Please enter your name.\")\n",
    "\n",
    "# Create a label\n",
    "name_label = tk.Label(root, text=\"Enter your name:\")\n",
    "name_label.pack(pady=10)  # Padding around the widget\n",
    "\n",
    "# Create an entry box for user input\n",
    "name_entry = tk.Entry(root)\n",
    "name_entry.pack(pady=10)\n",
    "\n",
    "# Create a button that triggers the greet function\n",
    "greet_button = tk.Button(root, text=\"Greet\", command=greet)\n",
    "greet_button.pack(pady=10)\n",
    "\n",
    "# Start the Tkinter event loop\n",
    "root.mainloop()"
   ]
  },
  {
   "cell_type": "code",
   "execution_count": null,
   "id": "4405ba48",
   "metadata": {},
   "outputs": [],
   "source": []
  }
 ],
 "metadata": {
  "kernelspec": {
   "display_name": "py313",
   "language": "python",
   "name": "python3"
  },
  "language_info": {
   "codemirror_mode": {
    "name": "ipython",
    "version": 3
   },
   "file_extension": ".py",
   "mimetype": "text/x-python",
   "name": "python",
   "nbconvert_exporter": "python",
   "pygments_lexer": "ipython3",
   "version": "3.13.5"
  }
 },
 "nbformat": 4,
 "nbformat_minor": 5
}
